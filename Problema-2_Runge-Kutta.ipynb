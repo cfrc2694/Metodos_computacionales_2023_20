{
 "cells": [
  {
   "attachments": {},
   "cell_type": "markdown",
   "metadata": {},
   "source": [
    "# Problema 2\n",
    "\n",
    "Considere un oscilador armónico no lineal; e.g., una masa sujeta a un resorte cuya fuerza de restauración no es lineal. Usando este ejemplo como motivación, explique un método Runge-Kutta de orden dos de su preferencia para la integración de ecuaciones diferenciales lineales. Usted tiene la libertad de escoger la forma funcional exacta que prefiera para la fuerza de restitución, siempre y cuando esta sea no lineal. Suponga que los estudiantes saben Python 3 y su librería estándar. Sin embargo, aclare al principio del notebook cuáles conocimientos previos deben tener los estudiantes (por ejemplo, diagonalización, integrales, transformada de Fourier, etc.) para entender los métodos numéricos. Establezca una solución completa y con interpretación física al final de su explicación. En la construcción de su solución puede usar las librerías numpy y scipy teniendo en cuenta que debe explicar su selección de funciones y cómo se relacionan con los métodos explicados.\n",
    "\n"
   ]
  },
  {
   "attachments": {},
   "cell_type": "markdown",
   "metadata": {},
   "source": [
    "# Solución\n",
    "\n",
    "El estudiante debe tener conocimientos previos de integrales, ecuaciones diferenciales, y de la librería numpy."
   ]
  },
  {
   "attachments": {},
   "cell_type": "markdown",
   "metadata": {},
   "source": [
    "\n",
    "## Introducción \n",
    "Al querer solucionar una ecuación diferencial simple de la forma\n",
    "$$\n",
    "\\dot x = v(x,t)\n",
    "$$\n",
    "donde $x$ es la variable independiente y $v$ es una función de $x$ y $t$, si no conocemos un método de integración para solucionar de manera exacta, podemos implementar métodos que aproximen la solución, por ejemplo si $v$ es suficientemente constante en un intervalo pequeño de tiempo $\\Delta t$ podemos aproximar la solución como\n",
    "$$\n",
    "x \\approx v(x,t) \\Delta t + x_0\n",
    "$$\n",
    "donde $x_0$ es el valor de $x$ en el tiempo $t_0$. Este método es conocido como método de Euler y es de orden 1, es decir, el error de la aproximación es proporcional a $\\Delta t$.\n",
    "\n",
    "Podemos utilizar de manera iterativa estos métodos para obtener una aproximación a la curva dando pequeños pasos de tiempo $h$,donde ahora en un tiempo final $t_f$ luego de $N$ pasos de tiempo, la aproximación a la solución es\n",
    "$$\n",
    "x_N \\approx x_0 + \\sum_{i=0}^{N-1} v(x_i,t_i) * h\n",
    "$$\n",
    "cada vez, el siguiente paso $x_{i+1}$ se calcula a partir del paso anterior $x_i$ y el tiempo $t_i$ como sigue\n",
    "$$\n",
    "x_{i+1} = x_i + v(x_i,t_i) * h.\n",
    "$$\n",
    "donde la validez de esta aproximación es del orden de $\\mathcal O (h)$. Diferentes métodos pueden aproximar de mejor manera el valor de $x_{i+1}$, por ejemplo el método de Runge-Kutta es bastante eficiente en el cálculo de las aproximaciones.  "
   ]
  },
  {
   "attachments": {},
   "cell_type": "markdown",
   "metadata": {},
   "source": [
    "## Método de Runge Kutta de orden 2\n",
    "Sin entrar en detalles técnicos, el método de Runge-Kutta es un método numérico utilizado para aproximar soluciones de ecuaciones diferenciales ordinarias (EDOs). En particular, el método de orden 2 de Runge-Kutta es uno de los métodos más simples y ampliamente utilizados en la aproximación de soluciones.\n",
    "\n",
    "El método de Runge-Kutta de orden 2 se basa en la idea de aproximar la solución de una EDO en un punto utilizando una combinación ponderada de la pendiente en ese punto y la pendiente en un punto vecino. Esta combinación de pendientes nos permite obtener una mejor aproximación de la solución en comparación con otros métodos más simples.\n",
    "\n",
    "\n",
    "\n",
    "### Derivación del método\n",
    "Pendiente :)\n",
    "\n",
    "\n",
    "### Implementación del método\n",
    "El método de orden $2$ de Runge-Kutta utiliza la siguiente fórmula para calcular la aproximación de la solución en el siguiente punto:\n",
    "$$\n",
    "x_{n+1} = x_n + (k_1 + k_2) \\frac{h}{2} + \\mathcal O (h^3)\n",
    "$$\n",
    "donde $h$ es el tamaño del paso en $t$, $x_n$ es la aproximación de la solución en el punto $n$, y $k_1$ y $k_2$ son las pendientes en los puntos $t_n$ y $t_n + h$ respectivamente.\n",
    "$$\n",
    "\\begin{aligned}\n",
    "k_1 &= v(x_n, t_n) \\\\\n",
    "k_2 &= v(x_n + k_1, t_n + h)\n",
    "\\end{aligned}\n",
    "$$"
   ]
  },
  {
   "attachments": {},
   "cell_type": "markdown",
   "metadata": {},
   "source": [
    "**Vemos cómo aplicar esta solución en un problema donde la ecuación diferencial es de orden 2.**"
   ]
  },
  {
   "attachments": {},
   "cell_type": "markdown",
   "metadata": {},
   "source": [
    "Asumamos un Oscilador Armónico No Lineal con una fuerza de restitución de la forma:\n",
    "$$\n",
    "f(x) = -kx(1+\\alpha x^2) \n",
    "$$\n",
    "con $k$ y $\\alpha$ constantes positivas. Según la segunda ley de Newton la ecuación diferencial que describe el movimiento del sistema es por tanto:\n",
    "$$\n",
    "m\\ddot{x} = -kx(1+\\alpha x^2)\n",
    "$$\n"
   ]
  },
  {
   "attachments": {},
   "cell_type": "markdown",
   "metadata": {},
   "source": [
    "Dado que no podemos integrar diréctamente esta ecuación diferencial de segundo orden, la podemos transformar en un sistema de dos ecuaciones diferenciales de primer orden, definiendo $v = \\dot{x}$, entonces\n",
    "$$\n",
    "\\begin{aligned}\n",
    "\\dot{x} &= v \\\\\n",
    "\\dot{v} &= -\\frac km x(1+\\alpha x^2)\n",
    "\\end{aligned}\n",
    "$$"
   ]
  },
  {
   "attachments": {},
   "cell_type": "markdown",
   "metadata": {},
   "source": [
    "Definamos estas dos funciones en Python:"
   ]
  },
  {
   "cell_type": "code",
   "execution_count": 13,
   "metadata": {},
   "outputs": [],
   "source": [
    "m = 1.0 # kg\n",
    "k = 1.1 # N/m\n",
    "alpha = 0.1 # N/m^2\n",
    "\n",
    "def f(x):\n",
    "    return -k * ( x * (1 - alpha * x**2) )/m \n",
    "\n",
    "def next_x_v (x,v, dt):\n",
    "    # calcula la pendiente en el punto actual\n",
    "    k1 =  v\n",
    "    l1 = f(x)\n",
    "\n",
    "    # calcula la posible pendiente en el punto siguiente\n",
    "    k2 = (v + 0.5 * l1)\n",
    "    l2 = f(x + 0.5 * k1)\n",
    "    \n",
    "    # calcula el punto siguiente promediando las pendientes\n",
    "    x_next = x + (k1 + k2)*dt/2\n",
    "    v_next = v + (l1 + l2)*dt/2\n",
    "    return x_next, v_next"
   ]
  },
  {
   "attachments": {},
   "cell_type": "markdown",
   "metadata": {},
   "source": [
    "De esta manera, dadas un conjunto de condiciones iniciales $x_0$ y $v_0$ podemos calcular la solución de la ecuación diferencial en un intervalo de tiempo $[t_0, t_f]$."
   ]
  },
  {
   "cell_type": "code",
   "execution_count": 14,
   "metadata": {},
   "outputs": [],
   "source": [
    "x_0 = 1.5 # m\n",
    "v_0 = 0 # m/s\n",
    "dt = 0.02 # s\n",
    "t_0 = 0 # s\n",
    "t_max = 10 # s\n",
    "\n",
    "# calcula los puntos\n",
    "x = [x_0]\n",
    "v = [v_0]\n",
    "t = [t_0]\n",
    "while t[-1] < t_max:\n",
    "    x_next, v_next = next_x_v(x[-1],v[-1],dt)\n",
    "    x.append(x_next)\n",
    "    v.append(v_next)\n",
    "    t.append(t[-1] + dt)"
   ]
  },
  {
   "attachments": {},
   "cell_type": "markdown",
   "metadata": {},
   "source": [
    "Grafiquemos usando la librería matplotlib la solución obtenida"
   ]
  },
  {
   "cell_type": "code",
   "execution_count": 17,
   "metadata": {},
   "outputs": [
    {
     "data": {
      "image/png": "[encoded data removed]",
      "text/plain": [
       "<Figure size 432x288 with 1 Axes>"
      ]
     },
     "metadata": {
      "needs_background": "light"
     },
     "output_type": "display_data"
    }
   ],
   "source": [
    "import matplotlib.pyplot as plt\n",
    "# grafica los puntos para x\n",
    "plt.plot(t,x)\n",
    "plt.xlabel('t (s)')\n",
    "plt.ylabel('x (m)')\n",
    "# grafica los puntos para v\n",
    "plt.plot(t,v)\n",
    "plt.xlabel('t (s)')\n",
    "plt.ylabel('v (m/s)')\n",
    "plt.show()"
   ]
  },
  {
   "attachments": {},
   "cell_type": "markdown",
   "metadata": {},
   "source": [
    "Con un poco más de tiempo ahondaremos más y expandiremos estas soluciones a sistemas de ecuaciones diferenciales de orden superior."
   ]
  },
  {
   "attachments": {},
   "cell_type": "markdown",
   "metadata": {},
   "source": []
  }
 ],
 "metadata": {
  "kernelspec": {
   "display_name": "base",
   "language": "python",
   "name": "python3"
  },
  "language_info": {
   "codemirror_mode": {
    "name": "ipython",
    "version": 3
   },
   "file_extension": ".py",
   "mimetype": "text/x-python",
   "name": "python",
   "nbconvert_exporter": "python",
   "pygments_lexer": "ipython3",
   "version": "3.6.8"
  },
  "orig_nbformat": 4
 },
 "nbformat": 4,
 "nbformat_minor": 2
}
